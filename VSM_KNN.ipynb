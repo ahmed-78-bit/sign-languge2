{
 "cells": [
  {
   "cell_type": "code",
   "execution_count": 20,
   "metadata": {},
   "outputs": [],
   "source": [
    "import pandas as pd\n",
    "import numpy as np\n",
    "import matplotlib.pyplot as plt\n",
    "from sklearn.preprocessing import LabelEncoder\n",
    "from sklearn.metrics import confusion_matrix, f1_score, accuracy_score, classification_report\n",
    "from sklearn.model_selection import KFold\n",
    "from sklearn.model_selection import train_test_split\n",
    "from sklearn.svm import SVC\n",
    "from sklearn import metrics\n",
    "from sklearn.neighbors import KNeighborsClassifier"
   ]
  },
  {
   "cell_type": "markdown",
   "metadata": {},
   "source": [
    "# SUPPORT VECTOR MACHINE "
   ]
  },
  {
   "cell_type": "code",
   "execution_count": 21,
   "metadata": {},
   "outputs": [],
   "source": [
    "df = pd.read_csv(\"sign_mnist_train.csv\")\n",
    "df_test = pd.read_csv(\"sign_mnist_test.csv\")\n",
    "\n",
    "x_train = df.iloc[0:27455, 1:785].values\n",
    "y_train = df.iloc[0:27455, 0].values\n",
    "\n",
    "pixel_number = np.arange(0,784,1)\n",
    "\n",
    "x_test = df_test.iloc[0:7172, 1:785].values\n",
    "y_test = df_test.iloc[0:7172,0].values\n",
    "\n",
    "\n",
    "label_enc = LabelEncoder()\n",
    "y_train = label_enc.fit_transform(y_train)\n",
    "y_test = label_enc.fit_transform(y_test)"
   ]
  },
  {
   "cell_type": "code",
   "execution_count": 4,
   "metadata": {},
   "outputs": [
    {
     "name": "stdout",
     "output_type": "stream",
     "text": [
      "              precision    recall  f1-score   support\n",
      "\n",
      "           0       0.94      1.00      0.97       331\n",
      "           1       1.00      0.99      0.99       432\n",
      "           2       0.88      0.99      0.93       310\n",
      "           3       0.92      1.00      0.95       245\n",
      "           4       0.94      0.99      0.97       498\n",
      "           5       0.78      0.83      0.80       247\n",
      "           6       0.93      0.93      0.93       348\n",
      "           7       0.98      0.94      0.96       436\n",
      "           8       0.80      0.90      0.85       288\n",
      "           9       0.79      0.59      0.67       331\n",
      "          10       0.87      1.00      0.93       209\n",
      "          11       0.85      0.75      0.79       394\n",
      "          12       0.90      0.68      0.78       291\n",
      "          13       0.99      0.83      0.90       246\n",
      "          14       1.00      1.00      1.00       347\n",
      "          15       1.00      0.99      0.99       164\n",
      "          16       0.28      0.54      0.37       144\n",
      "          17       0.71      0.78      0.75       246\n",
      "          18       0.80      0.70      0.75       248\n",
      "          19       0.57      0.63      0.60       266\n",
      "          20       0.81      0.59      0.68       346\n",
      "          21       0.57      0.76      0.65       206\n",
      "          22       0.82      0.76      0.79       267\n",
      "          23       0.85      0.76      0.80       332\n",
      "\n",
      "    accuracy                           0.84      7172\n",
      "   macro avg       0.83      0.83      0.83      7172\n",
      "weighted avg       0.86      0.84      0.84      7172\n",
      "\n"
     ]
    }
   ],
   "source": [
    "classifier = SVC(decision_function_shape='ovo')\n",
    "classifier.fit(x_train, y_train)\n",
    "\n",
    "y_pred = classifier.predict(x_test)\n",
    "print(metrics.classification_report(y_test,y_pred))"
   ]
  },
  {
   "cell_type": "markdown",
   "metadata": {},
   "source": [
    "## K fold cross validation"
   ]
  },
  {
   "cell_type": "code",
   "execution_count": 5,
   "metadata": {},
   "outputs": [],
   "source": [
    "X=x_train\n",
    "Y=y_train\n",
    "\n",
    "X_train,X_val, Y_train ,y_val = train_test_split(X, Y, test_size=0.2)\n",
    "# Use KFold\n",
    "kf = KFold(n_splits=5, shuffle=True)\n",
    "\n",
    "# Create splits\n",
    "splits = kf.split(X, Y)\n",
    "cv = []\n",
    "\n",
    "metrics = []\n",
    "scores_accuracy = []\n",
    "# Access the training and validation indices of splits\n",
    "for train_index, val_index in splits:\n",
    "    # Setup the training and validation data\n",
    "    X_train, y_train = X[train_index, :], Y[train_index]\n",
    "    X_val, y_val = X[val_index, :], Y[val_index]\n",
    "    # Fit the SVC model\n",
    "    classifier = SVC(decision_function_shape='ovr')\n",
    "    classifier.fit(X_train, y_train)\n",
    "    y_pred = classifier.predict(X_val)\n",
    "\n",
    "    metric = classification_report(y_val, y_pred)\n",
    "    metrics.append(metric)\n",
    "    #Beräkna score\n",
    "    score = accuracy_score(y_val, y_pred)\n",
    "    scores_accuracy.append(score)\n",
    "    \n",
    "    np.mean(scores_accuracy)"
   ]
  },
  {
   "cell_type": "code",
   "execution_count": 6,
   "metadata": {},
   "outputs": [
    {
     "name": "stdout",
     "output_type": "stream",
     "text": [
      "[1.0, 1.0, 1.0, 1.0, 0.9996357676197414]\n"
     ]
    }
   ],
   "source": [
    "print(scores_accuracy)"
   ]
  },
  {
   "cell_type": "code",
   "execution_count": 14,
   "metadata": {},
   "outputs": [
    {
     "data": {
      "text/plain": [
       "0.9999271535239483"
      ]
     },
     "execution_count": 14,
     "metadata": {},
     "output_type": "execute_result"
    }
   ],
   "source": [
    " np.mean(scores_accuracy)"
   ]
  },
  {
   "cell_type": "markdown",
   "metadata": {},
   "source": [
    "# K-NEAREST-NEIGHBOUR"
   ]
  },
  {
   "cell_type": "code",
   "execution_count": 22,
   "metadata": {},
   "outputs": [
    {
     "name": "stdout",
     "output_type": "stream",
     "text": [
      "              precision    recall  f1-score   support\n",
      "\n",
      "           0       0.63      0.97      0.77       331\n",
      "           1       0.56      0.69      0.61       432\n",
      "           2       0.84      0.98      0.90       310\n",
      "           3       0.52      0.83      0.64       245\n",
      "           4       0.80      0.82      0.81       498\n",
      "           5       0.84      0.60      0.70       247\n",
      "           6       0.62      0.78      0.69       348\n",
      "           7       0.83      0.69      0.75       436\n",
      "           8       0.59      0.58      0.58       288\n",
      "           9       0.48      0.34      0.40       331\n",
      "          10       0.97      0.65      0.78       209\n",
      "          11       0.72      0.25      0.37       394\n",
      "          12       0.39      0.34      0.36       291\n",
      "          13       0.96      0.62      0.75       246\n",
      "          14       0.94      0.97      0.95       347\n",
      "          15       0.96      0.70      0.81       164\n",
      "          16       0.09      0.15      0.11       144\n",
      "          17       0.38      0.44      0.41       246\n",
      "          18       0.44      0.86      0.58       248\n",
      "          19       0.21      0.38      0.27       266\n",
      "          20       0.55      0.32      0.41       346\n",
      "          21       0.37      0.40      0.38       206\n",
      "          22       0.91      0.62      0.74       267\n",
      "          23       0.84      0.26      0.40       332\n",
      "\n",
      "    accuracy                           0.61      7172\n",
      "   macro avg       0.64      0.59      0.59      7172\n",
      "weighted avg       0.66      0.61      0.61      7172\n",
      "\n"
     ]
    }
   ],
   "source": [
    "KNN = KNeighborsClassifier(n_neighbors=165)\n",
    "classifier = KNN.fit(x_train,y_train)\n",
    "\n",
    "y_pred = classifier.predict(x_test)\n",
    "print(metrics.classification_report(y_test,y_pred))"
   ]
  },
  {
   "cell_type": "code",
   "execution_count": 23,
   "metadata": {},
   "outputs": [],
   "source": [
    "X=x_train\n",
    "Y=y_train\n",
    "\n",
    "X_train,X_val, Y_train ,y_val = train_test_split(X, Y, test_size=0.2)\n",
    "# Use KFold\n",
    "kf = KFold(n_splits=5, shuffle=True)\n",
    "\n",
    "# Create splits\n",
    "splits = kf.split(X, Y)\n",
    "cv = []\n",
    "\n",
    "metrics = []\n",
    "scores_accuracy = []\n",
    "# Access the training and validation indices of splits\n",
    "for train_index, val_index in splits:\n",
    "    # Setup the training and validation data\n",
    "    X_train, y_train = X[train_index, :], Y[train_index]\n",
    "    X_val, y_val = X[val_index, :], Y[val_index]\n",
    "    # Fit the  model\n",
    "\n",
    "\n",
    "    KNN = KNeighborsClassifier(n_neighbors=165)\n",
    "    classifier = KNN.fit(X_train, y_train)\n",
    "\n",
    "    y_pred = classifier.predict(X_val)\n",
    "    \n",
    "    metric = classification_report(y_val, y_pred)\n",
    "    metrics.append(metric)\n",
    "    #Beräkna score\n",
    "    score = accuracy_score(y_val, y_pred)\n",
    "    scores_accuracy.append(score)\n",
    "    "
   ]
  },
  {
   "cell_type": "code",
   "execution_count": 24,
   "metadata": {},
   "outputs": [
    {
     "name": "stdout",
     "output_type": "stream",
     "text": [
      "[0.7428519395374249, 0.7322892005099253, 0.7397559643052267, 0.7505008195228556, 0.7428519395374249]\n"
     ]
    }
   ],
   "source": [
    "print(scores_accuracy)"
   ]
  },
  {
   "cell_type": "code",
   "execution_count": 25,
   "metadata": {},
   "outputs": [
    {
     "data": {
      "text/plain": [
       "0.7416499726825714"
      ]
     },
     "execution_count": 25,
     "metadata": {},
     "output_type": "execute_result"
    }
   ],
   "source": [
    "np.mean(scores_accuracy)"
   ]
  }
 ],
 "metadata": {
  "interpreter": {
   "hash": "c7eb552b2d78a5a2bd91e2ab668636198cd28a4f849ca65c8c1e9379dd90288b"
  },
  "kernelspec": {
   "display_name": "Python 3.9.7 ('waleed')",
   "language": "python",
   "name": "python3"
  },
  "language_info": {
   "codemirror_mode": {
    "name": "ipython",
    "version": 3
   },
   "file_extension": ".py",
   "mimetype": "text/x-python",
   "name": "python",
   "nbconvert_exporter": "python",
   "pygments_lexer": "ipython3",
   "version": "3.9.7"
  },
  "orig_nbformat": 4
 },
 "nbformat": 4,
 "nbformat_minor": 2
}
